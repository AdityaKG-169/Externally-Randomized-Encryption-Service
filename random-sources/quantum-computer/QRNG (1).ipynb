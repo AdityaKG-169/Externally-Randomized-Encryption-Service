{
 "cells": [
  {
   "cell_type": "code",
   "execution_count": 5,
   "metadata": {},
   "outputs": [
    {
     "name": "stdout",
     "output_type": "stream",
     "text": [
      "{'1010101110': 1, '0101001111': 1, '0001111011': 1, '1011001101': 1, '0100011111': 1}\n"
     ]
    },
    {
     "name": "stderr",
     "output_type": "stream",
     "text": [
      "ibmqfactory.load_account:WARNING:2020-07-27 18:06:53,571: Credentials are already in use. The existing account in the session will be replaced.\n"
     ]
    },
    {
     "name": "stdout",
     "output_type": "stream",
     "text": [
      "5f1eca6bcf3b08001afc28be\n",
      "Job Status: job has successfully run\n",
      "{'0010000001': 1, '0010000111': 1, '0000110100': 1, '1101110010': 1, '0100100100': 1}\n"
     ]
    }
   ],
   "source": [
    "from qiskit import *\n",
    "from qiskit.tools.monitor import job_monitor\n",
    "\n",
    "n=10\n",
    "\n",
    "circuit=QuantumCircuit(n, n)\n",
    "\n",
    "for i in range(0,n):\n",
    "    circuit.h(i)\n",
    "\n",
    "circuit.barrier()\n",
    "\n",
    "circuit.measure(range(0,n), range(0,n))\n",
    "\n",
    "#Simulated Random Number\n",
    "counts=execute(circuit, backend=Aer.get_backend('qasm_simulator'), shots=5).result().get_counts()\n",
    "\n",
    "print(counts)\n",
    "\n",
    "#Actual Random Number\n",
    "IBMQ.load_account()\n",
    "provider=IBMQ.get_provider('ibm-q')\n",
    "device=provider.get_backend('ibmq_qasm_simulator')\n",
    "\n",
    "job=execute(circuit, backend=device, shots=5)\n",
    "print(job.job_id())\n",
    "job_monitor(job)\n",
    "\n",
    "device_result=job.result()\n",
    "device_counts=device_result.get_counts()\n",
    "print(device_counts)\n",
    "\n"
   ]
  },
  {
   "cell_type": "code",
   "execution_count": null,
   "metadata": {},
   "outputs": [],
   "source": []
  }
 ],
 "metadata": {
  "kernelspec": {
   "display_name": "Python 3",
   "language": "python",
   "name": "python3"
  },
  "language_info": {
   "codemirror_mode": {
    "name": "ipython",
    "version": 3
   },
   "file_extension": ".py",
   "mimetype": "text/x-python",
   "name": "python",
   "nbconvert_exporter": "python",
   "pygments_lexer": "ipython3",
   "version": "3.7.6"
  }
 },
 "nbformat": 4,
 "nbformat_minor": 4
}
